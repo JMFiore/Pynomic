{
 "cells": [
  {
   "cell_type": "code",
   "execution_count": 1,
   "metadata": {},
   "outputs": [],
   "source": [
    "import Pynomic as pp\n",
    "import re\n",
    "import json\n",
    "import geopandas as gdp\n",
    "import shapely"
   ]
  },
  {
   "cell_type": "code",
   "execution_count": 2,
   "metadata": {},
   "outputs": [
    {
     "name": "stdout",
     "output_type": "stream",
     "text": [
      "20240919\n"
     ]
    }
   ],
   "source": [
    "name = '20240919_loc'\n",
    "if (re.search('_', name)):\n",
    "    print(name.split(\"_\")[0])"
   ]
  },
  {
   "cell_type": "code",
   "execution_count": 3,
   "metadata": {},
   "outputs": [
    {
     "name": "stdout",
     "output_type": "stream",
     "text": [
      "<re.Match object; span=(8, 9), match='_'>\n"
     ]
    }
   ],
   "source": [
    "print(re.search(r'_', name))"
   ]
  },
  {
   "cell_type": "code",
   "execution_count": 9,
   "metadata": {},
   "outputs": [],
   "source": [
    "flight_folder = r\"E:\\Volpato\\2018\\Lamberton_2018\\Flights\"\n",
    "flight_path = '/home/juan/Desktop/pynomic_project/Pynomics/add_on/flights/20180917_Lamberton_GCP_transparent_mosaic.tif'\n",
    "grid_path = r'C:\\Users\\fiore\\OneDrive\\Desktop\\Proyecto_Pynomic\\Pynomic\\add_on\\Grids\\Labmert_test_grid.geojson'"
   ]
  },
  {
   "cell_type": "code",
   "execution_count": 3,
   "metadata": {},
   "outputs": [],
   "source": [
    "def read_grid(gpath, col_id: str):\n",
    "    \"\"\"Reads a geojson file.\n",
    "\n",
    "    Args:\n",
    "        gpath: grid path to a geojson file.\n",
    "\n",
    "    Returns\n",
    "    -------\n",
    "        coordinate system of the grid.\n",
    "        dict-like object with id and coords of each plot.\n",
    "    \"\"\"\n",
    "    dics = {}\n",
    "    if gpath.split(\".\")[1] == \"geojson\":\n",
    "        plotgrids = open(gpath)\n",
    "        plotgrids = json.load(plotgrids)\n",
    "        crs_coords = plotgrids[\"crs\"][\"properties\"][\"name\"]\n",
    "\n",
    "        for p in plotgrids[\"features\"]:\n",
    "            dics[str(p[\"properties\"][col_id])] = p[\"geometry\"][\"coordinates\"][\n",
    "                0\n",
    "            ]\n",
    "\n",
    "        return crs_coords, dics\n",
    "\n",
    "    else:\n",
    "        raise ValueError(\"Grid is not a geojson file\")\n",
    "    \n",
    "\n",
    "def read_grid2(gpath, col_id:str):\n",
    "    df = gdp.read_file(gpath)\n",
    "    df[col_id] = df[col_id].astype(str)\n",
    "    poligons_dict = df.copy().set_index(col_id).loc[:,'geometry'].to_dict()\n",
    "    crs_coords = df.crs\n",
    "    return crs_coords, poligons_dict\n"
   ]
  },
  {
   "cell_type": "code",
   "execution_count": 6,
   "metadata": {},
   "outputs": [],
   "source": [
    "ad, cd = read_grid2(grid_path,'fid')"
   ]
  },
  {
   "cell_type": "code",
   "execution_count": 3,
   "metadata": {},
   "outputs": [
    {
     "ename": "NameError",
     "evalue": "name 'cd' is not defined",
     "output_type": "error",
     "traceback": [
      "\u001b[1;31m---------------------------------------------------------------------------\u001b[0m",
      "\u001b[1;31mNameError\u001b[0m                                 Traceback (most recent call last)",
      "Cell \u001b[1;32mIn[3], line 1\u001b[0m\n\u001b[1;32m----> 1\u001b[0m shapely\u001b[38;5;241m.\u001b[39mget_coordinates(\u001b[43mcd\u001b[49m[\u001b[38;5;124m'\u001b[39m\u001b[38;5;124m22\u001b[39m\u001b[38;5;124m'\u001b[39m])\n",
      "\u001b[1;31mNameError\u001b[0m: name 'cd' is not defined"
     ]
    }
   ],
   "source": [
    "shapely.get_coordinates(cd['22'])"
   ]
  },
  {
   "cell_type": "code",
   "execution_count": 4,
   "metadata": {},
   "outputs": [],
   "source": [
    "df = gdp.read_file(grid_path)\n",
    "df['fid'] = df['fid'].astype(str)\n",
    "poligons_dict = df.copy().set_index('fid').loc[:,'geometry'].to_dict()"
   ]
  },
  {
   "cell_type": "code",
   "execution_count": 17,
   "metadata": {},
   "outputs": [
    {
     "data": {
      "text/plain": [
       "0      1\n",
       "1      2\n",
       "2      3\n",
       "3      4\n",
       "4      5\n",
       "5      6\n",
       "6      7\n",
       "7      8\n",
       "8      9\n",
       "9     10\n",
       "10    11\n",
       "11    12\n",
       "12    13\n",
       "13    14\n",
       "14    15\n",
       "15    16\n",
       "16    17\n",
       "17    18\n",
       "18    19\n",
       "19    20\n",
       "20    21\n",
       "21    22\n",
       "22    23\n",
       "23    24\n",
       "24    25\n",
       "25    26\n",
       "26    27\n",
       "27    28\n",
       "28    29\n",
       "29    30\n",
       "30    31\n",
       "31    32\n",
       "32    33\n",
       "33    34\n",
       "34    35\n",
       "35    36\n",
       "36    37\n",
       "37    38\n",
       "38    39\n",
       "39    40\n",
       "Name: fid, dtype: object"
      ]
     },
     "execution_count": 17,
     "metadata": {},
     "output_type": "execute_result"
    }
   ],
   "source": [
    "df['fid']"
   ]
  },
  {
   "cell_type": "code",
   "execution_count": 6,
   "metadata": {},
   "outputs": [
    {
     "ename": "NameError",
     "evalue": "name 'flight_folder' is not defined",
     "output_type": "error",
     "traceback": [
      "\u001b[0;31m---------------------------------------------------------------------------\u001b[0m",
      "\u001b[0;31mNameError\u001b[0m                                 Traceback (most recent call last)",
      "Cell \u001b[0;32mIn[6], line 1\u001b[0m\n\u001b[0;32m----> 1\u001b[0m vuelos \u001b[38;5;241m=\u001b[39m pp\u001b[38;5;241m.\u001b[39mprocess_stack_tiff(\u001b[43mflight_folder\u001b[49m, grid_path,col_id \u001b[38;5;241m=\u001b[39m \u001b[38;5;124m'\u001b[39m\u001b[38;5;124mfid\u001b[39m\u001b[38;5;124m'\u001b[39m, bands_n \u001b[38;5;241m=\u001b[39m [\u001b[38;5;124m'\u001b[39m\u001b[38;5;124mred\u001b[39m\u001b[38;5;124m'\u001b[39m,\u001b[38;5;124m'\u001b[39m\u001b[38;5;124mgreen\u001b[39m\u001b[38;5;124m'\u001b[39m, \u001b[38;5;124m'\u001b[39m\u001b[38;5;124mblue\u001b[39m\u001b[38;5;124m'\u001b[39m])\n",
      "\u001b[0;31mNameError\u001b[0m: name 'flight_folder' is not defined"
     ]
    }
   ],
   "source": [
    "vuelos = pp.process_stack_tiff(flight_folder, grid_path,col_id = 'fid', bands_n = ['red','green', 'blue'])"
   ]
  },
  {
   "cell_type": "code",
   "execution_count": 2,
   "metadata": {},
   "outputs": [
    {
     "ename": "NameError",
     "evalue": "name 'vuelos' is not defined",
     "output_type": "error",
     "traceback": [
      "\u001b[0;31m---------------------------------------------------------------------------\u001b[0m",
      "\u001b[0;31mNameError\u001b[0m                                 Traceback (most recent call last)",
      "Cell \u001b[0;32mIn[2], line 1\u001b[0m\n\u001b[0;32m----> 1\u001b[0m \u001b[43mvuelos\u001b[49m\u001b[38;5;241m.\u001b[39mldata\n",
      "\u001b[0;31mNameError\u001b[0m: name 'vuelos' is not defined"
     ]
    }
   ],
   "source": [
    "vuelos.ldata"
   ]
  },
  {
   "cell_type": "code",
   "execution_count": 5,
   "metadata": {},
   "outputs": [],
   "source": [
    "import numpy as np"
   ]
  },
  {
   "cell_type": "code",
   "execution_count": 6,
   "metadata": {},
   "outputs": [],
   "source": [
    "def VDVI_inex(df):\n",
    "    red = np.mean(df['red'][:])\n",
    "    green = np.mean(df['green'][:])\n",
    "    blue = np.mean(df['blue'][:])\n",
    "\n",
    "    return[(2*green - red - blue)/(2*green + red + blue)]"
   ]
  },
  {
   "cell_type": "code",
   "execution_count": 7,
   "metadata": {},
   "outputs": [
    {
     "data": {
      "text/html": [
       "<div>\n",
       "<style scoped>\n",
       "    .dataframe tbody tr th:only-of-type {\n",
       "        vertical-align: middle;\n",
       "    }\n",
       "\n",
       "    .dataframe tbody tr th {\n",
       "        vertical-align: top;\n",
       "    }\n",
       "\n",
       "    .dataframe thead th {\n",
       "        text-align: right;\n",
       "    }\n",
       "</style>\n",
       "<table border=\"1\" class=\"dataframe\">\n",
       "  <thead>\n",
       "    <tr style=\"text-align: right;\">\n",
       "      <th></th>\n",
       "      <th>id</th>\n",
       "      <th>fid</th>\n",
       "      <th>date</th>\n",
       "      <th>red</th>\n",
       "      <th>green</th>\n",
       "      <th>blue</th>\n",
       "      <th>ID</th>\n",
       "      <th>geometry</th>\n",
       "      <th>VDVI</th>\n",
       "    </tr>\n",
       "  </thead>\n",
       "  <tbody>\n",
       "    <tr>\n",
       "      <th>0</th>\n",
       "      <td>1</td>\n",
       "      <td>1</td>\n",
       "      <td>20180815</td>\n",
       "      <td>129.180144</td>\n",
       "      <td>132.169504</td>\n",
       "      <td>64.339841</td>\n",
       "      <td>1</td>\n",
       "      <td>POLYGON ((315803.555 4900902.953, 315803.647 4...</td>\n",
       "      <td>0.154674</td>\n",
       "    </tr>\n",
       "    <tr>\n",
       "      <th>1</th>\n",
       "      <td>2</td>\n",
       "      <td>2</td>\n",
       "      <td>20180815</td>\n",
       "      <td>125.377683</td>\n",
       "      <td>131.907013</td>\n",
       "      <td>61.482976</td>\n",
       "      <td>2</td>\n",
       "      <td>POLYGON ((315803.647 4900904.542, 315803.738 4...</td>\n",
       "      <td>0.170751</td>\n",
       "    </tr>\n",
       "    <tr>\n",
       "      <th>2</th>\n",
       "      <td>3</td>\n",
       "      <td>3</td>\n",
       "      <td>20180815</td>\n",
       "      <td>129.649426</td>\n",
       "      <td>132.058198</td>\n",
       "      <td>65.336695</td>\n",
       "      <td>3</td>\n",
       "      <td>POLYGON ((315803.738 4900906.132, 315803.829 4...</td>\n",
       "      <td>0.150577</td>\n",
       "    </tr>\n",
       "    <tr>\n",
       "      <th>3</th>\n",
       "      <td>4</td>\n",
       "      <td>4</td>\n",
       "      <td>20180815</td>\n",
       "      <td>173.122989</td>\n",
       "      <td>158.359240</td>\n",
       "      <td>69.833833</td>\n",
       "      <td>4</td>\n",
       "      <td>POLYGON ((315803.829 4900907.721, 315803.921 4...</td>\n",
       "      <td>0.131794</td>\n",
       "    </tr>\n",
       "    <tr>\n",
       "      <th>4</th>\n",
       "      <td>5</td>\n",
       "      <td>5</td>\n",
       "      <td>20180815</td>\n",
       "      <td>145.584752</td>\n",
       "      <td>141.653868</td>\n",
       "      <td>72.492968</td>\n",
       "      <td>5</td>\n",
       "      <td>POLYGON ((315803.921 4900909.31, 315804.012 49...</td>\n",
       "      <td>0.130100</td>\n",
       "    </tr>\n",
       "    <tr>\n",
       "      <th>...</th>\n",
       "      <td>...</td>\n",
       "      <td>...</td>\n",
       "      <td>...</td>\n",
       "      <td>...</td>\n",
       "      <td>...</td>\n",
       "      <td>...</td>\n",
       "      <td>...</td>\n",
       "      <td>...</td>\n",
       "      <td>...</td>\n",
       "    </tr>\n",
       "    <tr>\n",
       "      <th>475</th>\n",
       "      <td>36</td>\n",
       "      <td>36</td>\n",
       "      <td>20180808</td>\n",
       "      <td>140.052090</td>\n",
       "      <td>137.438701</td>\n",
       "      <td>65.010299</td>\n",
       "      <td>36</td>\n",
       "      <td>POLYGON ((315766.706 4900905.024, 315766.797 4...</td>\n",
       "      <td>0.145466</td>\n",
       "    </tr>\n",
       "    <tr>\n",
       "      <th>476</th>\n",
       "      <td>37</td>\n",
       "      <td>37</td>\n",
       "      <td>20180808</td>\n",
       "      <td>127.585859</td>\n",
       "      <td>127.112894</td>\n",
       "      <td>65.720836</td>\n",
       "      <td>37</td>\n",
       "      <td>POLYGON ((315766.797 4900906.614, 315766.888 4...</td>\n",
       "      <td>0.136122</td>\n",
       "    </tr>\n",
       "    <tr>\n",
       "      <th>477</th>\n",
       "      <td>38</td>\n",
       "      <td>38</td>\n",
       "      <td>20180808</td>\n",
       "      <td>136.892951</td>\n",
       "      <td>129.128537</td>\n",
       "      <td>67.512299</td>\n",
       "      <td>38</td>\n",
       "      <td>POLYGON ((315766.888 4900908.203, 315766.98 49...</td>\n",
       "      <td>0.116396</td>\n",
       "    </tr>\n",
       "    <tr>\n",
       "      <th>478</th>\n",
       "      <td>39</td>\n",
       "      <td>39</td>\n",
       "      <td>20180808</td>\n",
       "      <td>141.797180</td>\n",
       "      <td>131.045698</td>\n",
       "      <td>72.473311</td>\n",
       "      <td>39</td>\n",
       "      <td>POLYGON ((315766.98 4900909.792, 315767.071 49...</td>\n",
       "      <td>0.100388</td>\n",
       "    </tr>\n",
       "    <tr>\n",
       "      <th>479</th>\n",
       "      <td>40</td>\n",
       "      <td>40</td>\n",
       "      <td>20180808</td>\n",
       "      <td>166.808081</td>\n",
       "      <td>166.456130</td>\n",
       "      <td>64.215191</td>\n",
       "      <td>40</td>\n",
       "      <td>POLYGON ((315767.071 4900911.382, 315767.162 4...</td>\n",
       "      <td>0.180675</td>\n",
       "    </tr>\n",
       "  </tbody>\n",
       "</table>\n",
       "<p>480 rows × 9 columns</p>\n",
       "</div>"
      ],
      "text/plain": [
       "     id fid      date         red       green       blue  ID  \\\n",
       "0     1   1  20180815  129.180144  132.169504  64.339841   1   \n",
       "1     2   2  20180815  125.377683  131.907013  61.482976   2   \n",
       "2     3   3  20180815  129.649426  132.058198  65.336695   3   \n",
       "3     4   4  20180815  173.122989  158.359240  69.833833   4   \n",
       "4     5   5  20180815  145.584752  141.653868  72.492968   5   \n",
       "..   ..  ..       ...         ...         ...        ...  ..   \n",
       "475  36  36  20180808  140.052090  137.438701  65.010299  36   \n",
       "476  37  37  20180808  127.585859  127.112894  65.720836  37   \n",
       "477  38  38  20180808  136.892951  129.128537  67.512299  38   \n",
       "478  39  39  20180808  141.797180  131.045698  72.473311  39   \n",
       "479  40  40  20180808  166.808081  166.456130  64.215191  40   \n",
       "\n",
       "                                              geometry      VDVI  \n",
       "0    POLYGON ((315803.555 4900902.953, 315803.647 4...  0.154674  \n",
       "1    POLYGON ((315803.647 4900904.542, 315803.738 4...  0.170751  \n",
       "2    POLYGON ((315803.738 4900906.132, 315803.829 4...  0.150577  \n",
       "3    POLYGON ((315803.829 4900907.721, 315803.921 4...  0.131794  \n",
       "4    POLYGON ((315803.921 4900909.31, 315804.012 49...  0.130100  \n",
       "..                                                 ...       ...  \n",
       "475  POLYGON ((315766.706 4900905.024, 315766.797 4...  0.145466  \n",
       "476  POLYGON ((315766.797 4900906.614, 315766.888 4...  0.136122  \n",
       "477  POLYGON ((315766.888 4900908.203, 315766.98 49...  0.116396  \n",
       "478  POLYGON ((315766.98 4900909.792, 315767.071 49...  0.100388  \n",
       "479  POLYGON ((315767.071 4900911.382, 315767.162 4...  0.180675  \n",
       "\n",
       "[480 rows x 9 columns]"
      ]
     },
     "execution_count": 7,
     "metadata": {},
     "output_type": "execute_result"
    }
   ],
   "source": [
    "vuelos.generate_unique_feature(VDVI_inex,['VDVI'],to_data=True)"
   ]
  },
  {
   "cell_type": "code",
   "execution_count": 10,
   "metadata": {},
   "outputs": [],
   "source": [
    "import numpy as np\n",
    "import pandas as pd "
   ]
  },
  {
   "cell_type": "code",
   "execution_count": 10,
   "metadata": {},
   "outputs": [
    {
     "data": {
      "text/html": [
       "<div>\n",
       "<style scoped>\n",
       "    .dataframe tbody tr th:only-of-type {\n",
       "        vertical-align: middle;\n",
       "    }\n",
       "\n",
       "    .dataframe tbody tr th {\n",
       "        vertical-align: top;\n",
       "    }\n",
       "\n",
       "    .dataframe thead th {\n",
       "        text-align: right;\n",
       "    }\n",
       "</style>\n",
       "<table border=\"1\" class=\"dataframe\">\n",
       "  <thead>\n",
       "    <tr style=\"text-align: right;\">\n",
       "      <th></th>\n",
       "      <th>id</th>\n",
       "      <th>date</th>\n",
       "      <th>red</th>\n",
       "      <th>green</th>\n",
       "      <th>blue</th>\n",
       "      <th>VDVI</th>\n",
       "    </tr>\n",
       "  </thead>\n",
       "  <tbody>\n",
       "    <tr>\n",
       "      <th>0</th>\n",
       "      <td>1</td>\n",
       "      <td>20180815</td>\n",
       "      <td>121.831579</td>\n",
       "      <td>126.595538</td>\n",
       "      <td>59.382952</td>\n",
       "      <td>0.165690</td>\n",
       "    </tr>\n",
       "    <tr>\n",
       "      <th>1</th>\n",
       "      <td>2</td>\n",
       "      <td>20180815</td>\n",
       "      <td>121.474371</td>\n",
       "      <td>128.774828</td>\n",
       "      <td>58.871510</td>\n",
       "      <td>0.176306</td>\n",
       "    </tr>\n",
       "    <tr>\n",
       "      <th>2</th>\n",
       "      <td>3</td>\n",
       "      <td>20180815</td>\n",
       "      <td>126.370549</td>\n",
       "      <td>129.016797</td>\n",
       "      <td>63.183651</td>\n",
       "      <td>0.152997</td>\n",
       "    </tr>\n",
       "    <tr>\n",
       "      <th>3</th>\n",
       "      <td>4</td>\n",
       "      <td>20180815</td>\n",
       "      <td>174.389170</td>\n",
       "      <td>158.036699</td>\n",
       "      <td>68.549026</td>\n",
       "      <td>0.130829</td>\n",
       "    </tr>\n",
       "    <tr>\n",
       "      <th>4</th>\n",
       "      <td>5</td>\n",
       "      <td>20180815</td>\n",
       "      <td>142.689922</td>\n",
       "      <td>138.811870</td>\n",
       "      <td>71.183315</td>\n",
       "      <td>0.129707</td>\n",
       "    </tr>\n",
       "    <tr>\n",
       "      <th>...</th>\n",
       "      <td>...</td>\n",
       "      <td>...</td>\n",
       "      <td>...</td>\n",
       "      <td>...</td>\n",
       "      <td>...</td>\n",
       "      <td>...</td>\n",
       "    </tr>\n",
       "    <tr>\n",
       "      <th>275</th>\n",
       "      <td>36</td>\n",
       "      <td>20180829</td>\n",
       "      <td>188.956748</td>\n",
       "      <td>155.526947</td>\n",
       "      <td>66.954937</td>\n",
       "      <td>0.097258</td>\n",
       "    </tr>\n",
       "    <tr>\n",
       "      <th>276</th>\n",
       "      <td>37</td>\n",
       "      <td>20180829</td>\n",
       "      <td>162.666079</td>\n",
       "      <td>147.658472</td>\n",
       "      <td>58.692537</td>\n",
       "      <td>0.143143</td>\n",
       "    </tr>\n",
       "    <tr>\n",
       "      <th>277</th>\n",
       "      <td>38</td>\n",
       "      <td>20180829</td>\n",
       "      <td>185.320922</td>\n",
       "      <td>148.891290</td>\n",
       "      <td>77.936946</td>\n",
       "      <td>0.061537</td>\n",
       "    </tr>\n",
       "    <tr>\n",
       "      <th>278</th>\n",
       "      <td>39</td>\n",
       "      <td>20180829</td>\n",
       "      <td>182.743783</td>\n",
       "      <td>150.730039</td>\n",
       "      <td>77.950153</td>\n",
       "      <td>0.072518</td>\n",
       "    </tr>\n",
       "    <tr>\n",
       "      <th>279</th>\n",
       "      <td>40</td>\n",
       "      <td>20180829</td>\n",
       "      <td>160.595675</td>\n",
       "      <td>153.856431</td>\n",
       "      <td>63.284420</td>\n",
       "      <td>0.157701</td>\n",
       "    </tr>\n",
       "  </tbody>\n",
       "</table>\n",
       "<p>280 rows × 6 columns</p>\n",
       "</div>"
      ],
      "text/plain": [
       "     id      date         red       green       blue      VDVI\n",
       "0     1  20180815  121.831579  126.595538  59.382952  0.165690\n",
       "1     2  20180815  121.474371  128.774828  58.871510  0.176306\n",
       "2     3  20180815  126.370549  129.016797  63.183651  0.152997\n",
       "3     4  20180815  174.389170  158.036699  68.549026  0.130829\n",
       "4     5  20180815  142.689922  138.811870  71.183315  0.129707\n",
       "..   ..       ...         ...         ...        ...       ...\n",
       "275  36  20180829  188.956748  155.526947  66.954937  0.097258\n",
       "276  37  20180829  162.666079  147.658472  58.692537  0.143143\n",
       "277  38  20180829  185.320922  148.891290  77.936946  0.061537\n",
       "278  39  20180829  182.743783  150.730039  77.950153  0.072518\n",
       "279  40  20180829  160.595675  153.856431  63.284420  0.157701\n",
       "\n",
       "[280 rows x 6 columns]"
      ]
     },
     "execution_count": 10,
     "metadata": {},
     "output_type": "execute_result"
    }
   ],
   "source": [
    "vuelos.ldata"
   ]
  },
  {
   "cell_type": "code",
   "execution_count": 11,
   "metadata": {},
   "outputs": [
    {
     "data": {
      "text/plain": [
       "7"
      ]
     },
     "execution_count": 11,
     "metadata": {},
     "output_type": "execute_result"
    }
   ],
   "source": [
    "vuelos.n_dates"
   ]
  },
  {
   "cell_type": "code",
   "execution_count": 12,
   "metadata": {},
   "outputs": [
    {
     "data": {
      "text/plain": [
       "Index(['id', 'date', 'red', 'green', 'blue', 'VDVI'], dtype='object')"
      ]
     },
     "execution_count": 12,
     "metadata": {},
     "output_type": "execute_result"
    }
   ],
   "source": [
    "vuelos.ldata.columns"
   ]
  },
  {
   "cell_type": "code",
   "execution_count": 14,
   "metadata": {},
   "outputs": [
    {
     "data": {
      "text/html": [
       "<div>\n",
       "<style scoped>\n",
       "    .dataframe tbody tr th:only-of-type {\n",
       "        vertical-align: middle;\n",
       "    }\n",
       "\n",
       "    .dataframe tbody tr th {\n",
       "        vertical-align: top;\n",
       "    }\n",
       "\n",
       "    .dataframe thead th {\n",
       "        text-align: right;\n",
       "    }\n",
       "</style>\n",
       "<table border=\"1\" class=\"dataframe\">\n",
       "  <thead>\n",
       "    <tr style=\"text-align: right;\">\n",
       "      <th></th>\n",
       "      <th>id</th>\n",
       "      <th>date</th>\n",
       "      <th>VDVI</th>\n",
       "    </tr>\n",
       "  </thead>\n",
       "  <tbody>\n",
       "    <tr>\n",
       "      <th>0</th>\n",
       "      <td>1</td>\n",
       "      <td>20180815</td>\n",
       "      <td>0.165690</td>\n",
       "    </tr>\n",
       "    <tr>\n",
       "      <th>1</th>\n",
       "      <td>2</td>\n",
       "      <td>20180815</td>\n",
       "      <td>0.176306</td>\n",
       "    </tr>\n",
       "    <tr>\n",
       "      <th>2</th>\n",
       "      <td>3</td>\n",
       "      <td>20180815</td>\n",
       "      <td>0.152997</td>\n",
       "    </tr>\n",
       "    <tr>\n",
       "      <th>3</th>\n",
       "      <td>4</td>\n",
       "      <td>20180815</td>\n",
       "      <td>0.130829</td>\n",
       "    </tr>\n",
       "    <tr>\n",
       "      <th>4</th>\n",
       "      <td>5</td>\n",
       "      <td>20180815</td>\n",
       "      <td>0.129707</td>\n",
       "    </tr>\n",
       "    <tr>\n",
       "      <th>...</th>\n",
       "      <td>...</td>\n",
       "      <td>...</td>\n",
       "      <td>...</td>\n",
       "    </tr>\n",
       "    <tr>\n",
       "      <th>275</th>\n",
       "      <td>36</td>\n",
       "      <td>20180829</td>\n",
       "      <td>0.097258</td>\n",
       "    </tr>\n",
       "    <tr>\n",
       "      <th>276</th>\n",
       "      <td>37</td>\n",
       "      <td>20180829</td>\n",
       "      <td>0.143143</td>\n",
       "    </tr>\n",
       "    <tr>\n",
       "      <th>277</th>\n",
       "      <td>38</td>\n",
       "      <td>20180829</td>\n",
       "      <td>0.061537</td>\n",
       "    </tr>\n",
       "    <tr>\n",
       "      <th>278</th>\n",
       "      <td>39</td>\n",
       "      <td>20180829</td>\n",
       "      <td>0.072518</td>\n",
       "    </tr>\n",
       "    <tr>\n",
       "      <th>279</th>\n",
       "      <td>40</td>\n",
       "      <td>20180829</td>\n",
       "      <td>0.157701</td>\n",
       "    </tr>\n",
       "  </tbody>\n",
       "</table>\n",
       "<p>280 rows × 3 columns</p>\n",
       "</div>"
      ],
      "text/plain": [
       "     id      date      VDVI\n",
       "0     1  20180815  0.165690\n",
       "1     2  20180815  0.176306\n",
       "2     3  20180815  0.152997\n",
       "3     4  20180815  0.130829\n",
       "4     5  20180815  0.129707\n",
       "..   ..       ...       ...\n",
       "275  36  20180829  0.097258\n",
       "276  37  20180829  0.143143\n",
       "277  38  20180829  0.061537\n",
       "278  39  20180829  0.072518\n",
       "279  40  20180829  0.157701\n",
       "\n",
       "[280 rows x 3 columns]"
      ]
     },
     "execution_count": 14,
     "metadata": {},
     "output_type": "execute_result"
    }
   ],
   "source": [
    "vuelos.generate_unique_feature(VDVI_inex,'VDVI',to_data=False)"
   ]
  },
  {
   "cell_type": "code",
   "execution_count": 18,
   "metadata": {},
   "outputs": [
    {
     "data": {
      "text/plain": [
       "0.09725847938267855"
      ]
     },
     "execution_count": 18,
     "metadata": {},
     "output_type": "execute_result"
    }
   ],
   "source": [
    "vuelos.ldata.loc[275,'VDVI_x']"
   ]
  },
  {
   "cell_type": "code",
   "execution_count": null,
   "metadata": {},
   "outputs": [],
   "source": [
    "assertRaises"
   ]
  },
  {
   "cell_type": "code",
   "execution_count": 29,
   "metadata": {},
   "outputs": [
    {
     "name": "stdout",
     "output_type": "stream",
     "text": [
      "1\n",
      "2\n",
      "3\n"
     ]
    },
    {
     "ename": "TypeError",
     "evalue": "unsupported operand type(s) for -: 'int' and 'str'",
     "output_type": "error",
     "traceback": [
      "\u001b[0;31m---------------------------------------------------------------------------\u001b[0m",
      "\u001b[0;31mTypeError\u001b[0m                                 Traceback (most recent call last)",
      "Cell \u001b[0;32mIn[29], line 4\u001b[0m\n\u001b[1;32m      2\u001b[0m \u001b[38;5;28;01mif\u001b[39;00m x \u001b[38;5;241m==\u001b[39m \u001b[38;5;241m4\u001b[39m:\n\u001b[1;32m      3\u001b[0m     \u001b[38;5;28;01mtry\u001b[39;00m:\n\u001b[0;32m----> 4\u001b[0m         \u001b[38;5;28mprint\u001b[39m(\u001b[38;5;241;43m1\u001b[39;49m\u001b[38;5;241;43m-\u001b[39;49m\u001b[38;5;124;43m'\u001b[39;49m\u001b[38;5;124;43m3\u001b[39;49m\u001b[38;5;124;43m'\u001b[39;49m)\n\u001b[1;32m      5\u001b[0m     \u001b[38;5;28;01mexcept\u001b[39;00m \u001b[38;5;167;01mValueError\u001b[39;00m \u001b[38;5;28;01mas\u001b[39;00m e:\n\u001b[1;32m      6\u001b[0m         \u001b[38;5;28mprint\u001b[39m(\u001b[38;5;124m'\u001b[39m\u001b[38;5;124mhola\u001b[39m\u001b[38;5;124m'\u001b[39m) \n",
      "\u001b[0;31mTypeError\u001b[0m: unsupported operand type(s) for -: 'int' and 'str'"
     ]
    }
   ],
   "source": [
    "for x in [1,2,3,4,5]:\n",
    "    if x == 4:\n",
    "        try:\n",
    "            print(1-'3')\n",
    "        except ValueError as e:\n",
    "            print('hola') \n",
    "    else:\n",
    "        print(x)"
   ]
  },
  {
   "cell_type": "code",
   "execution_count": 33,
   "metadata": {},
   "outputs": [
    {
     "name": "stdout",
     "output_type": "stream",
     "text": [
      "1\n",
      "2\n",
      "3\n",
      "hola\n",
      "5\n"
     ]
    }
   ],
   "source": [
    "for x in [1,2,3,4,5]:\n",
    "    if x == 4:\n",
    "        try:\n",
    "            raise ValueError('hola')\n",
    "        except ValueError as e:\n",
    "            print(e)\n",
    "    else:\n",
    "        print(x)"
   ]
  },
  {
   "cell_type": "code",
   "execution_count": 35,
   "metadata": {},
   "outputs": [
    {
     "ename": "KeyError",
     "evalue": "'n_band'",
     "output_type": "error",
     "traceback": [
      "\u001b[0;31m---------------------------------------------------------------------------\u001b[0m",
      "\u001b[0;31mAttributeError\u001b[0m                            Traceback (most recent call last)",
      "File \u001b[0;32m~/Desktop/pynomic_project/Pynomic/Pynomic/core/core.py:60\u001b[0m, in \u001b[0;36mPynomicproject.__getitem__\u001b[0;34m(self, k)\u001b[0m\n\u001b[1;32m     59\u001b[0m \u001b[38;5;28;01mtry\u001b[39;00m:\n\u001b[0;32m---> 60\u001b[0m     \u001b[38;5;28;01mreturn\u001b[39;00m \u001b[38;5;28;43mgetattr\u001b[39;49m\u001b[43m(\u001b[49m\u001b[38;5;28;43mself\u001b[39;49m\u001b[43m,\u001b[49m\u001b[43m \u001b[49m\u001b[43mk\u001b[49m\u001b[43m)\u001b[49m\n\u001b[1;32m     61\u001b[0m \u001b[38;5;28;01mexcept\u001b[39;00m \u001b[38;5;167;01mAttributeError\u001b[39;00m:\n",
      "\u001b[0;31mAttributeError\u001b[0m: 'Pynomicproject' object has no attribute 'n_band'",
      "\nDuring handling of the above exception, another exception occurred:\n",
      "\u001b[0;31mKeyError\u001b[0m                                  Traceback (most recent call last)",
      "Cell \u001b[0;32mIn[35], line 1\u001b[0m\n\u001b[0;32m----> 1\u001b[0m \u001b[43mvuelos\u001b[49m\u001b[43m[\u001b[49m\u001b[38;5;124;43m'\u001b[39;49m\u001b[38;5;124;43mn_band\u001b[39;49m\u001b[38;5;124;43m'\u001b[39;49m\u001b[43m]\u001b[49m\n",
      "File \u001b[0;32m~/Desktop/pynomic_project/Pynomic/Pynomic/core/core.py:62\u001b[0m, in \u001b[0;36mPynomicproject.__getitem__\u001b[0;34m(self, k)\u001b[0m\n\u001b[1;32m     60\u001b[0m     \u001b[38;5;28;01mreturn\u001b[39;00m \u001b[38;5;28mgetattr\u001b[39m(\u001b[38;5;28mself\u001b[39m, k)\n\u001b[1;32m     61\u001b[0m \u001b[38;5;28;01mexcept\u001b[39;00m \u001b[38;5;167;01mAttributeError\u001b[39;00m:\n\u001b[0;32m---> 62\u001b[0m     \u001b[38;5;28;01mraise\u001b[39;00m \u001b[38;5;167;01mKeyError\u001b[39;00m(k)\n",
      "\u001b[0;31mKeyError\u001b[0m: 'n_band'"
     ]
    }
   ],
   "source": [
    "vuelos['n_band']"
   ]
  }
 ],
 "metadata": {
  "kernelspec": {
   "display_name": "Pynomicdev311",
   "language": "python",
   "name": "python3"
  },
  "language_info": {
   "codemirror_mode": {
    "name": "ipython",
    "version": 3
   },
   "file_extension": ".py",
   "mimetype": "text/x-python",
   "name": "python",
   "nbconvert_exporter": "python",
   "pygments_lexer": "ipython3",
   "version": "3.10.12"
  }
 },
 "nbformat": 4,
 "nbformat_minor": 2
}
