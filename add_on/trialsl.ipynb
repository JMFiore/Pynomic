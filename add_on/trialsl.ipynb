{
 "cells": [
  {
   "cell_type": "code",
   "execution_count": 1,
   "metadata": {},
   "outputs": [],
   "source": [
    "import Pynomic as pp\n",
    "import re"
   ]
  },
  {
   "cell_type": "code",
   "execution_count": 2,
   "metadata": {},
   "outputs": [
    {
     "name": "stdout",
     "output_type": "stream",
     "text": [
      "20240919\n"
     ]
    }
   ],
   "source": [
    "name = '20240919_loc'\n",
    "if (re.search('_', name)):\n",
    "    print(name.split(\"_\")[0])"
   ]
  },
  {
   "cell_type": "code",
   "execution_count": 3,
   "metadata": {},
   "outputs": [
    {
     "name": "stdout",
     "output_type": "stream",
     "text": [
      "<re.Match object; span=(8, 9), match='_'>\n"
     ]
    }
   ],
   "source": [
    "print(re.search(r'_', name))"
   ]
  },
  {
   "cell_type": "code",
   "execution_count": 4,
   "metadata": {},
   "outputs": [],
   "source": [
    "flight_folder = '/home/juan/Desktop/pynomic_project/Pynomic/add_on/flights'\n",
    "flight_path = '/home/juan/Desktop/pynomic_project/Pynomics/add_on/flights/20180917_Lamberton_GCP_transparent_mosaic.tif'\n",
    "grid_path = '/home/juan/Desktop/pynomic_project/Pynomic/add_on/Grids/Labmert_test_grid.geojson'"
   ]
  },
  {
   "cell_type": "code",
   "execution_count": 5,
   "metadata": {},
   "outputs": [
    {
     "name": "stdout",
     "output_type": "stream",
     "text": [
      "1/7 : 20180815_Lamberton_GCP_transparent_mosaic.tif\n",
      "Raster Coords system: EPSG:32615\n",
      "Grid Coords system: urn:ogc:def:crs:EPSG::32615\n",
      "2/7 : 20180917_Lamberton_GCP_transparent_mosaic.tif\n",
      "Raster Coords system: EPSG:32615\n",
      "Grid Coords system: urn:ogc:def:crs:EPSG::32615\n",
      "3/7 : 20180905_Lamberton_GCP_transparent_mosaic.tif\n",
      "Raster Coords system: EPSG:32615\n",
      "Grid Coords system: urn:ogc:def:crs:EPSG::32615\n",
      "4/7 : 20180914_Lamberton_GCP_transparent_mosaic.tif\n",
      "Raster Coords system: EPSG:32615\n",
      "Grid Coords system: urn:ogc:def:crs:EPSG::32615\n",
      "5/7 : 20180822_Lamberton_GCP_transparent_mosaic.tif\n",
      "Raster Coords system: EPSG:32615\n",
      "Grid Coords system: urn:ogc:def:crs:EPSG::32615\n",
      "6/7 : 20180925_Lamberton_GCP_transparent_mosaic.tif\n",
      "Raster Coords system: EPSG:32615\n",
      "Grid Coords system: urn:ogc:def:crs:EPSG::32615\n",
      "7/7 : 20180829_Lamberton_GCP_transparent_mosaic.tif\n",
      "Raster Coords system: EPSG:32615\n",
      "Grid Coords system: urn:ogc:def:crs:EPSG::32615\n"
     ]
    }
   ],
   "source": [
    "vuelos = pp.process_stack_tiff(flight_folder, grid_path, bands_n = ['red','green', 'blue'])"
   ]
  },
  {
   "cell_type": "code",
   "execution_count": 6,
   "metadata": {},
   "outputs": [
    {
     "data": {
      "text/html": [
       "<div>\n",
       "<style scoped>\n",
       "    .dataframe tbody tr th:only-of-type {\n",
       "        vertical-align: middle;\n",
       "    }\n",
       "\n",
       "    .dataframe tbody tr th {\n",
       "        vertical-align: top;\n",
       "    }\n",
       "\n",
       "    .dataframe thead th {\n",
       "        text-align: right;\n",
       "    }\n",
       "</style>\n",
       "<table border=\"1\" class=\"dataframe\">\n",
       "  <thead>\n",
       "    <tr style=\"text-align: right;\">\n",
       "      <th></th>\n",
       "      <th>id</th>\n",
       "      <th>date</th>\n",
       "      <th>red</th>\n",
       "      <th>green</th>\n",
       "      <th>blue</th>\n",
       "    </tr>\n",
       "  </thead>\n",
       "  <tbody>\n",
       "    <tr>\n",
       "      <th>0</th>\n",
       "      <td>1</td>\n",
       "      <td>20180815</td>\n",
       "      <td>121.831579</td>\n",
       "      <td>126.595538</td>\n",
       "      <td>59.382952</td>\n",
       "    </tr>\n",
       "    <tr>\n",
       "      <th>1</th>\n",
       "      <td>2</td>\n",
       "      <td>20180815</td>\n",
       "      <td>121.474371</td>\n",
       "      <td>128.774828</td>\n",
       "      <td>58.871510</td>\n",
       "    </tr>\n",
       "    <tr>\n",
       "      <th>2</th>\n",
       "      <td>3</td>\n",
       "      <td>20180815</td>\n",
       "      <td>126.370549</td>\n",
       "      <td>129.016797</td>\n",
       "      <td>63.183651</td>\n",
       "    </tr>\n",
       "    <tr>\n",
       "      <th>3</th>\n",
       "      <td>4</td>\n",
       "      <td>20180815</td>\n",
       "      <td>174.389170</td>\n",
       "      <td>158.036699</td>\n",
       "      <td>68.549026</td>\n",
       "    </tr>\n",
       "    <tr>\n",
       "      <th>4</th>\n",
       "      <td>5</td>\n",
       "      <td>20180815</td>\n",
       "      <td>142.689922</td>\n",
       "      <td>138.811870</td>\n",
       "      <td>71.183315</td>\n",
       "    </tr>\n",
       "    <tr>\n",
       "      <th>...</th>\n",
       "      <td>...</td>\n",
       "      <td>...</td>\n",
       "      <td>...</td>\n",
       "      <td>...</td>\n",
       "      <td>...</td>\n",
       "    </tr>\n",
       "    <tr>\n",
       "      <th>35</th>\n",
       "      <td>36</td>\n",
       "      <td>20180829</td>\n",
       "      <td>188.956748</td>\n",
       "      <td>155.526947</td>\n",
       "      <td>66.954937</td>\n",
       "    </tr>\n",
       "    <tr>\n",
       "      <th>36</th>\n",
       "      <td>37</td>\n",
       "      <td>20180829</td>\n",
       "      <td>162.666079</td>\n",
       "      <td>147.658472</td>\n",
       "      <td>58.692537</td>\n",
       "    </tr>\n",
       "    <tr>\n",
       "      <th>37</th>\n",
       "      <td>38</td>\n",
       "      <td>20180829</td>\n",
       "      <td>185.320922</td>\n",
       "      <td>148.891290</td>\n",
       "      <td>77.936946</td>\n",
       "    </tr>\n",
       "    <tr>\n",
       "      <th>38</th>\n",
       "      <td>39</td>\n",
       "      <td>20180829</td>\n",
       "      <td>182.743783</td>\n",
       "      <td>150.730039</td>\n",
       "      <td>77.950153</td>\n",
       "    </tr>\n",
       "    <tr>\n",
       "      <th>39</th>\n",
       "      <td>40</td>\n",
       "      <td>20180829</td>\n",
       "      <td>160.595675</td>\n",
       "      <td>153.856431</td>\n",
       "      <td>63.284420</td>\n",
       "    </tr>\n",
       "  </tbody>\n",
       "</table>\n",
       "<p>280 rows × 5 columns</p>\n",
       "</div>"
      ],
      "text/plain": [
       "    id      date         red       green       blue\n",
       "0    1  20180815  121.831579  126.595538  59.382952\n",
       "1    2  20180815  121.474371  128.774828  58.871510\n",
       "2    3  20180815  126.370549  129.016797  63.183651\n",
       "3    4  20180815  174.389170  158.036699  68.549026\n",
       "4    5  20180815  142.689922  138.811870  71.183315\n",
       "..  ..       ...         ...         ...        ...\n",
       "35  36  20180829  188.956748  155.526947  66.954937\n",
       "36  37  20180829  162.666079  147.658472  58.692537\n",
       "37  38  20180829  185.320922  148.891290  77.936946\n",
       "38  39  20180829  182.743783  150.730039  77.950153\n",
       "39  40  20180829  160.595675  153.856431  63.284420\n",
       "\n",
       "[280 rows x 5 columns]"
      ]
     },
     "execution_count": 6,
     "metadata": {},
     "output_type": "execute_result"
    }
   ],
   "source": [
    "vuelos.ldata"
   ]
  },
  {
   "cell_type": "code",
   "execution_count": 7,
   "metadata": {},
   "outputs": [],
   "source": [
    "import numpy as np"
   ]
  },
  {
   "cell_type": "code",
   "execution_count": 8,
   "metadata": {},
   "outputs": [],
   "source": [
    "def VDVI_inex(df):\n",
    "    red = np.mean(df['red'])\n",
    "    green = np.mean(df['green'])\n",
    "    blue = np.mean(df['blue'])\n",
    "\n",
    "    return(2*green - red - blue)/(2*green + red + blue)"
   ]
  },
  {
   "cell_type": "code",
   "execution_count": 9,
   "metadata": {},
   "outputs": [],
   "source": [
    "vuelos.generate_unique_feature(VDVI_inex,'VDVI',to_data=True)"
   ]
  },
  {
   "cell_type": "code",
   "execution_count": 10,
   "metadata": {},
   "outputs": [],
   "source": [
    "import numpy as np\n",
    "import pandas as pd "
   ]
  },
  {
   "cell_type": "code",
   "execution_count": 10,
   "metadata": {},
   "outputs": [
    {
     "data": {
      "text/html": [
       "<div>\n",
       "<style scoped>\n",
       "    .dataframe tbody tr th:only-of-type {\n",
       "        vertical-align: middle;\n",
       "    }\n",
       "\n",
       "    .dataframe tbody tr th {\n",
       "        vertical-align: top;\n",
       "    }\n",
       "\n",
       "    .dataframe thead th {\n",
       "        text-align: right;\n",
       "    }\n",
       "</style>\n",
       "<table border=\"1\" class=\"dataframe\">\n",
       "  <thead>\n",
       "    <tr style=\"text-align: right;\">\n",
       "      <th></th>\n",
       "      <th>id</th>\n",
       "      <th>date</th>\n",
       "      <th>red</th>\n",
       "      <th>green</th>\n",
       "      <th>blue</th>\n",
       "      <th>VDVI</th>\n",
       "    </tr>\n",
       "  </thead>\n",
       "  <tbody>\n",
       "    <tr>\n",
       "      <th>0</th>\n",
       "      <td>1</td>\n",
       "      <td>20180815</td>\n",
       "      <td>121.831579</td>\n",
       "      <td>126.595538</td>\n",
       "      <td>59.382952</td>\n",
       "      <td>0.165690</td>\n",
       "    </tr>\n",
       "    <tr>\n",
       "      <th>1</th>\n",
       "      <td>2</td>\n",
       "      <td>20180815</td>\n",
       "      <td>121.474371</td>\n",
       "      <td>128.774828</td>\n",
       "      <td>58.871510</td>\n",
       "      <td>0.176306</td>\n",
       "    </tr>\n",
       "    <tr>\n",
       "      <th>2</th>\n",
       "      <td>3</td>\n",
       "      <td>20180815</td>\n",
       "      <td>126.370549</td>\n",
       "      <td>129.016797</td>\n",
       "      <td>63.183651</td>\n",
       "      <td>0.152997</td>\n",
       "    </tr>\n",
       "    <tr>\n",
       "      <th>3</th>\n",
       "      <td>4</td>\n",
       "      <td>20180815</td>\n",
       "      <td>174.389170</td>\n",
       "      <td>158.036699</td>\n",
       "      <td>68.549026</td>\n",
       "      <td>0.130829</td>\n",
       "    </tr>\n",
       "    <tr>\n",
       "      <th>4</th>\n",
       "      <td>5</td>\n",
       "      <td>20180815</td>\n",
       "      <td>142.689922</td>\n",
       "      <td>138.811870</td>\n",
       "      <td>71.183315</td>\n",
       "      <td>0.129707</td>\n",
       "    </tr>\n",
       "    <tr>\n",
       "      <th>...</th>\n",
       "      <td>...</td>\n",
       "      <td>...</td>\n",
       "      <td>...</td>\n",
       "      <td>...</td>\n",
       "      <td>...</td>\n",
       "      <td>...</td>\n",
       "    </tr>\n",
       "    <tr>\n",
       "      <th>275</th>\n",
       "      <td>36</td>\n",
       "      <td>20180829</td>\n",
       "      <td>188.956748</td>\n",
       "      <td>155.526947</td>\n",
       "      <td>66.954937</td>\n",
       "      <td>0.097258</td>\n",
       "    </tr>\n",
       "    <tr>\n",
       "      <th>276</th>\n",
       "      <td>37</td>\n",
       "      <td>20180829</td>\n",
       "      <td>162.666079</td>\n",
       "      <td>147.658472</td>\n",
       "      <td>58.692537</td>\n",
       "      <td>0.143143</td>\n",
       "    </tr>\n",
       "    <tr>\n",
       "      <th>277</th>\n",
       "      <td>38</td>\n",
       "      <td>20180829</td>\n",
       "      <td>185.320922</td>\n",
       "      <td>148.891290</td>\n",
       "      <td>77.936946</td>\n",
       "      <td>0.061537</td>\n",
       "    </tr>\n",
       "    <tr>\n",
       "      <th>278</th>\n",
       "      <td>39</td>\n",
       "      <td>20180829</td>\n",
       "      <td>182.743783</td>\n",
       "      <td>150.730039</td>\n",
       "      <td>77.950153</td>\n",
       "      <td>0.072518</td>\n",
       "    </tr>\n",
       "    <tr>\n",
       "      <th>279</th>\n",
       "      <td>40</td>\n",
       "      <td>20180829</td>\n",
       "      <td>160.595675</td>\n",
       "      <td>153.856431</td>\n",
       "      <td>63.284420</td>\n",
       "      <td>0.157701</td>\n",
       "    </tr>\n",
       "  </tbody>\n",
       "</table>\n",
       "<p>280 rows × 6 columns</p>\n",
       "</div>"
      ],
      "text/plain": [
       "     id      date         red       green       blue      VDVI\n",
       "0     1  20180815  121.831579  126.595538  59.382952  0.165690\n",
       "1     2  20180815  121.474371  128.774828  58.871510  0.176306\n",
       "2     3  20180815  126.370549  129.016797  63.183651  0.152997\n",
       "3     4  20180815  174.389170  158.036699  68.549026  0.130829\n",
       "4     5  20180815  142.689922  138.811870  71.183315  0.129707\n",
       "..   ..       ...         ...         ...        ...       ...\n",
       "275  36  20180829  188.956748  155.526947  66.954937  0.097258\n",
       "276  37  20180829  162.666079  147.658472  58.692537  0.143143\n",
       "277  38  20180829  185.320922  148.891290  77.936946  0.061537\n",
       "278  39  20180829  182.743783  150.730039  77.950153  0.072518\n",
       "279  40  20180829  160.595675  153.856431  63.284420  0.157701\n",
       "\n",
       "[280 rows x 6 columns]"
      ]
     },
     "execution_count": 10,
     "metadata": {},
     "output_type": "execute_result"
    }
   ],
   "source": [
    "vuelos.ldata"
   ]
  },
  {
   "cell_type": "code",
   "execution_count": 11,
   "metadata": {},
   "outputs": [
    {
     "data": {
      "text/plain": [
       "7"
      ]
     },
     "execution_count": 11,
     "metadata": {},
     "output_type": "execute_result"
    }
   ],
   "source": [
    "vuelos.n_dates"
   ]
  },
  {
   "cell_type": "code",
   "execution_count": 12,
   "metadata": {},
   "outputs": [
    {
     "data": {
      "text/plain": [
       "Index(['id', 'date', 'red', 'green', 'blue', 'VDVI'], dtype='object')"
      ]
     },
     "execution_count": 12,
     "metadata": {},
     "output_type": "execute_result"
    }
   ],
   "source": [
    "vuelos.ldata.columns"
   ]
  },
  {
   "cell_type": "code",
   "execution_count": 14,
   "metadata": {},
   "outputs": [
    {
     "data": {
      "text/html": [
       "<div>\n",
       "<style scoped>\n",
       "    .dataframe tbody tr th:only-of-type {\n",
       "        vertical-align: middle;\n",
       "    }\n",
       "\n",
       "    .dataframe tbody tr th {\n",
       "        vertical-align: top;\n",
       "    }\n",
       "\n",
       "    .dataframe thead th {\n",
       "        text-align: right;\n",
       "    }\n",
       "</style>\n",
       "<table border=\"1\" class=\"dataframe\">\n",
       "  <thead>\n",
       "    <tr style=\"text-align: right;\">\n",
       "      <th></th>\n",
       "      <th>id</th>\n",
       "      <th>date</th>\n",
       "      <th>VDVI</th>\n",
       "    </tr>\n",
       "  </thead>\n",
       "  <tbody>\n",
       "    <tr>\n",
       "      <th>0</th>\n",
       "      <td>1</td>\n",
       "      <td>20180815</td>\n",
       "      <td>0.165690</td>\n",
       "    </tr>\n",
       "    <tr>\n",
       "      <th>1</th>\n",
       "      <td>2</td>\n",
       "      <td>20180815</td>\n",
       "      <td>0.176306</td>\n",
       "    </tr>\n",
       "    <tr>\n",
       "      <th>2</th>\n",
       "      <td>3</td>\n",
       "      <td>20180815</td>\n",
       "      <td>0.152997</td>\n",
       "    </tr>\n",
       "    <tr>\n",
       "      <th>3</th>\n",
       "      <td>4</td>\n",
       "      <td>20180815</td>\n",
       "      <td>0.130829</td>\n",
       "    </tr>\n",
       "    <tr>\n",
       "      <th>4</th>\n",
       "      <td>5</td>\n",
       "      <td>20180815</td>\n",
       "      <td>0.129707</td>\n",
       "    </tr>\n",
       "    <tr>\n",
       "      <th>...</th>\n",
       "      <td>...</td>\n",
       "      <td>...</td>\n",
       "      <td>...</td>\n",
       "    </tr>\n",
       "    <tr>\n",
       "      <th>275</th>\n",
       "      <td>36</td>\n",
       "      <td>20180829</td>\n",
       "      <td>0.097258</td>\n",
       "    </tr>\n",
       "    <tr>\n",
       "      <th>276</th>\n",
       "      <td>37</td>\n",
       "      <td>20180829</td>\n",
       "      <td>0.143143</td>\n",
       "    </tr>\n",
       "    <tr>\n",
       "      <th>277</th>\n",
       "      <td>38</td>\n",
       "      <td>20180829</td>\n",
       "      <td>0.061537</td>\n",
       "    </tr>\n",
       "    <tr>\n",
       "      <th>278</th>\n",
       "      <td>39</td>\n",
       "      <td>20180829</td>\n",
       "      <td>0.072518</td>\n",
       "    </tr>\n",
       "    <tr>\n",
       "      <th>279</th>\n",
       "      <td>40</td>\n",
       "      <td>20180829</td>\n",
       "      <td>0.157701</td>\n",
       "    </tr>\n",
       "  </tbody>\n",
       "</table>\n",
       "<p>280 rows × 3 columns</p>\n",
       "</div>"
      ],
      "text/plain": [
       "     id      date      VDVI\n",
       "0     1  20180815  0.165690\n",
       "1     2  20180815  0.176306\n",
       "2     3  20180815  0.152997\n",
       "3     4  20180815  0.130829\n",
       "4     5  20180815  0.129707\n",
       "..   ..       ...       ...\n",
       "275  36  20180829  0.097258\n",
       "276  37  20180829  0.143143\n",
       "277  38  20180829  0.061537\n",
       "278  39  20180829  0.072518\n",
       "279  40  20180829  0.157701\n",
       "\n",
       "[280 rows x 3 columns]"
      ]
     },
     "execution_count": 14,
     "metadata": {},
     "output_type": "execute_result"
    }
   ],
   "source": [
    "vuelos.generate_unique_feature(VDVI_inex,'VDVI',to_data=False)"
   ]
  },
  {
   "cell_type": "code",
   "execution_count": 18,
   "metadata": {},
   "outputs": [
    {
     "data": {
      "text/plain": [
       "0.09725847938267855"
      ]
     },
     "execution_count": 18,
     "metadata": {},
     "output_type": "execute_result"
    }
   ],
   "source": [
    "vuelos.ldata.loc[275,'VDVI_x']"
   ]
  },
  {
   "cell_type": "code",
   "execution_count": null,
   "metadata": {},
   "outputs": [],
   "source": [
    "assertRaises"
   ]
  },
  {
   "cell_type": "code",
   "execution_count": 29,
   "metadata": {},
   "outputs": [
    {
     "name": "stdout",
     "output_type": "stream",
     "text": [
      "1\n",
      "2\n",
      "3\n"
     ]
    },
    {
     "ename": "TypeError",
     "evalue": "unsupported operand type(s) for -: 'int' and 'str'",
     "output_type": "error",
     "traceback": [
      "\u001b[0;31m---------------------------------------------------------------------------\u001b[0m",
      "\u001b[0;31mTypeError\u001b[0m                                 Traceback (most recent call last)",
      "Cell \u001b[0;32mIn[29], line 4\u001b[0m\n\u001b[1;32m      2\u001b[0m \u001b[38;5;28;01mif\u001b[39;00m x \u001b[38;5;241m==\u001b[39m \u001b[38;5;241m4\u001b[39m:\n\u001b[1;32m      3\u001b[0m     \u001b[38;5;28;01mtry\u001b[39;00m:\n\u001b[0;32m----> 4\u001b[0m         \u001b[38;5;28mprint\u001b[39m(\u001b[38;5;241;43m1\u001b[39;49m\u001b[38;5;241;43m-\u001b[39;49m\u001b[38;5;124;43m'\u001b[39;49m\u001b[38;5;124;43m3\u001b[39;49m\u001b[38;5;124;43m'\u001b[39;49m)\n\u001b[1;32m      5\u001b[0m     \u001b[38;5;28;01mexcept\u001b[39;00m \u001b[38;5;167;01mValueError\u001b[39;00m \u001b[38;5;28;01mas\u001b[39;00m e:\n\u001b[1;32m      6\u001b[0m         \u001b[38;5;28mprint\u001b[39m(\u001b[38;5;124m'\u001b[39m\u001b[38;5;124mhola\u001b[39m\u001b[38;5;124m'\u001b[39m) \n",
      "\u001b[0;31mTypeError\u001b[0m: unsupported operand type(s) for -: 'int' and 'str'"
     ]
    }
   ],
   "source": [
    "for x in [1,2,3,4,5]:\n",
    "    if x == 4:\n",
    "        try:\n",
    "            print(1-'3')\n",
    "        except ValueError as e:\n",
    "            print('hola') \n",
    "    else:\n",
    "        print(x)"
   ]
  },
  {
   "cell_type": "code",
   "execution_count": 33,
   "metadata": {},
   "outputs": [
    {
     "name": "stdout",
     "output_type": "stream",
     "text": [
      "1\n",
      "2\n",
      "3\n",
      "hola\n",
      "5\n"
     ]
    }
   ],
   "source": [
    "for x in [1,2,3,4,5]:\n",
    "    if x == 4:\n",
    "        try:\n",
    "            raise ValueError('hola')\n",
    "        except ValueError as e:\n",
    "            print(e)\n",
    "    else:\n",
    "        print(x)"
   ]
  },
  {
   "cell_type": "code",
   "execution_count": 35,
   "metadata": {},
   "outputs": [
    {
     "ename": "KeyError",
     "evalue": "'n_band'",
     "output_type": "error",
     "traceback": [
      "\u001b[0;31m---------------------------------------------------------------------------\u001b[0m",
      "\u001b[0;31mAttributeError\u001b[0m                            Traceback (most recent call last)",
      "File \u001b[0;32m~/Desktop/pynomic_project/Pynomic/Pynomic/core/core.py:60\u001b[0m, in \u001b[0;36mPynomicproject.__getitem__\u001b[0;34m(self, k)\u001b[0m\n\u001b[1;32m     59\u001b[0m \u001b[38;5;28;01mtry\u001b[39;00m:\n\u001b[0;32m---> 60\u001b[0m     \u001b[38;5;28;01mreturn\u001b[39;00m \u001b[38;5;28;43mgetattr\u001b[39;49m\u001b[43m(\u001b[49m\u001b[38;5;28;43mself\u001b[39;49m\u001b[43m,\u001b[49m\u001b[43m \u001b[49m\u001b[43mk\u001b[49m\u001b[43m)\u001b[49m\n\u001b[1;32m     61\u001b[0m \u001b[38;5;28;01mexcept\u001b[39;00m \u001b[38;5;167;01mAttributeError\u001b[39;00m:\n",
      "\u001b[0;31mAttributeError\u001b[0m: 'Pynomicproject' object has no attribute 'n_band'",
      "\nDuring handling of the above exception, another exception occurred:\n",
      "\u001b[0;31mKeyError\u001b[0m                                  Traceback (most recent call last)",
      "Cell \u001b[0;32mIn[35], line 1\u001b[0m\n\u001b[0;32m----> 1\u001b[0m \u001b[43mvuelos\u001b[49m\u001b[43m[\u001b[49m\u001b[38;5;124;43m'\u001b[39;49m\u001b[38;5;124;43mn_band\u001b[39;49m\u001b[38;5;124;43m'\u001b[39;49m\u001b[43m]\u001b[49m\n",
      "File \u001b[0;32m~/Desktop/pynomic_project/Pynomic/Pynomic/core/core.py:62\u001b[0m, in \u001b[0;36mPynomicproject.__getitem__\u001b[0;34m(self, k)\u001b[0m\n\u001b[1;32m     60\u001b[0m     \u001b[38;5;28;01mreturn\u001b[39;00m \u001b[38;5;28mgetattr\u001b[39m(\u001b[38;5;28mself\u001b[39m, k)\n\u001b[1;32m     61\u001b[0m \u001b[38;5;28;01mexcept\u001b[39;00m \u001b[38;5;167;01mAttributeError\u001b[39;00m:\n\u001b[0;32m---> 62\u001b[0m     \u001b[38;5;28;01mraise\u001b[39;00m \u001b[38;5;167;01mKeyError\u001b[39;00m(k)\n",
      "\u001b[0;31mKeyError\u001b[0m: 'n_band'"
     ]
    }
   ],
   "source": [
    "vuelos['n_band']"
   ]
  }
 ],
 "metadata": {
  "kernelspec": {
   "display_name": "pynomics_p",
   "language": "python",
   "name": "python3"
  },
  "language_info": {
   "codemirror_mode": {
    "name": "ipython",
    "version": 3
   },
   "file_extension": ".py",
   "mimetype": "text/x-python",
   "name": "python",
   "nbconvert_exporter": "python",
   "pygments_lexer": "ipython3",
   "version": "3.12.1"
  }
 },
 "nbformat": 4,
 "nbformat_minor": 2
}
